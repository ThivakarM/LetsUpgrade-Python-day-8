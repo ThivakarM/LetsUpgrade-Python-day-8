{
 "cells": [
  {
   "cell_type": "markdown",
   "metadata": {},
   "source": [
    "# Question 2\n",
    "\n",
    "For this challenge you need to develop a Python program to open a file in read only mode and try writing something to it and handle the subsequent errors using Exception Handling."
   ]
  },
  {
   "cell_type": "code",
   "execution_count": 13,
   "metadata": {},
   "outputs": [],
   "source": [
    "file=open(\"thiv.txt\",\"w\")\n",
    "file.write(\"hello this is thivakar!!\")\n",
    "file.close()\n"
   ]
  },
  {
   "cell_type": "code",
   "execution_count": 14,
   "metadata": {
    "scrolled": true
   },
   "outputs": [
    {
     "name": "stdout",
     "output_type": "stream",
     "text": [
      "the file is opened in read only mode!!\n"
     ]
    }
   ],
   "source": [
    "import io\n",
    "try:\n",
    "    file=open(\"thiv.txt\",\"r\")\n",
    "    file.write(\"how are you?\")\n",
    "except io.UnsupportedOperation:\n",
    "    print(\"the file is opened in read only mode!!\")"
   ]
  },
  {
   "cell_type": "code",
   "execution_count": null,
   "metadata": {},
   "outputs": [],
   "source": []
  }
 ],
 "metadata": {
  "kernelspec": {
   "display_name": "Python 3",
   "language": "python",
   "name": "python3"
  },
  "language_info": {
   "codemirror_mode": {
    "name": "ipython",
    "version": 3
   },
   "file_extension": ".py",
   "mimetype": "text/x-python",
   "name": "python",
   "nbconvert_exporter": "python",
   "pygments_lexer": "ipython3",
   "version": "3.8.3"
  }
 },
 "nbformat": 4,
 "nbformat_minor": 4
}
